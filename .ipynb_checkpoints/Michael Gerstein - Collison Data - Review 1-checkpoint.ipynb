{
 "metadata": {
  "name": "",
  "signature": "sha256:9c6e7cf21687eeea25b96f880315fb8615e18c1fbc234be032b87e0d0757db09"
 },
 "nbformat": 3,
 "nbformat_minor": 0,
 "worksheets": []
}